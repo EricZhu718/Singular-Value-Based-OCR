{
  "nbformat": 4,
  "nbformat_minor": 0,
  "metadata": {
    "colab": {
      "provenance": []
    },
    "kernelspec": {
      "name": "python3",
      "display_name": "Python 3"
    },
    "language_info": {
      "name": "python"
    }
  },
  "cells": [
    {
      "cell_type": "code",
      "execution_count": 1,
      "metadata": {
        "id": "OG8K4RzHFyJu"
      },
      "outputs": [],
      "source": [
        "import sklearn\n",
        "import numpy as np\n",
        "import numpy.linalg as linalg\n",
        "from sklearn.datasets import load_digits\n",
        "import matplotlib.pyplot as plt\n",
        "from sklearn.model_selection import train_test_split\n",
        "import pandas as pd"
      ]
    },
    {
      "cell_type": "code",
      "source": [
        "data = load_digits()['images']\n",
        "targets = load_digits()['target']"
      ],
      "metadata": {
        "id": "rryJKsvvGBGK"
      },
      "execution_count": 2,
      "outputs": []
    },
    {
      "cell_type": "code",
      "source": [
        "data = np.asarray(data)\n",
        "img_train, img_test, class_train, class_test = train_test_split(data, targets, test_size=0.20, random_state=4598, shuffle=True)"
      ],
      "metadata": {
        "id": "SqhM9TCnGnXZ"
      },
      "execution_count": 3,
      "outputs": []
    },
    {
      "cell_type": "code",
      "source": [
        "grouped_by_target = [[] for i in range(10)]\n",
        "for i in range(len(img_train)):\n",
        "  grouped_by_target[class_train[i]].append(img_train[i])"
      ],
      "metadata": {
        "id": "yGlaMgZCgvy8"
      },
      "execution_count": 4,
      "outputs": []
    },
    {
      "cell_type": "code",
      "source": [
        "for arr in grouped_by_target:\n",
        "  print(len(arr))"
      ],
      "metadata": {
        "colab": {
          "base_uri": "https://localhost:8080/"
        },
        "id": "yJjaDy2NhWMk",
        "outputId": "9f7efc6a-4ce7-4beb-afae-3d076597b116"
      },
      "execution_count": 5,
      "outputs": [
        {
          "output_type": "stream",
          "name": "stdout",
          "text": [
            "147\n",
            "140\n",
            "139\n",
            "156\n",
            "149\n",
            "138\n",
            "138\n",
            "146\n",
            "141\n",
            "143\n"
          ]
        }
      ]
    },
    {
      "cell_type": "code",
      "source": [
        "svd_bases = [[] for i in range(10)]\n",
        "num_of_basis_to_keep = 5\n",
        "for i in range(10):\n",
        "  matrix = []\n",
        "  for img in grouped_by_target[i]:\n",
        "    matrix.append(img.reshape(64))\n",
        "  matrix = np.asarray(matrix).T\n",
        "  u, s, v_T = linalg.svd(matrix)\n",
        "  # print(u.shape)\n",
        "  # print(s)\n",
        "  # print(v.shape)\n",
        "  # s_mat = np.zeros((u.shape[1], v_T.shape[0]))\n",
        "  # for i in range(len(s)):\n",
        "  #   s_mat[i][i] = s[i]\n",
        "  # print(u @ s_mat @ v_T - matrix)\n",
        "  for basis_index in range(num_of_basis_to_keep):\n",
        "    basis_elm = u[:, basis_index]\n",
        "    basis_elm = basis_elm / linalg.norm(basis_elm)\n",
        "    svd_bases[i].append(basis_elm)"
      ],
      "metadata": {
        "id": "DDu8PDbyhoZ1"
      },
      "execution_count": 6,
      "outputs": []
    },
    {
      "cell_type": "code",
      "source": [
        "def determine_dist(vec, ortho_normal_basis):\n",
        "  proj = np.zeros(vec.shape[0])\n",
        "  for elm in ortho_normal_basis:\n",
        "    proj += np.dot(elm, vec) * elm\n",
        "  # print(proj) \n",
        "  return linalg.norm(vec - proj)\n",
        "\n",
        "dict_for_df = {str(i) + ' distance':[] for i in range(10)}\n",
        "dict_for_df['true classification'] = []\n",
        "dict_for_df['SVD classification'] = []\n",
        "\n",
        "\n",
        "for img, true_class in zip(img_test, class_test):\n",
        "  dict_for_df['true classification'].append(true_class)\n",
        "  least = (np.inf, -1)\n",
        "  for i in range(10):\n",
        "    dist = (determine_dist(img.reshape(64), svd_bases[i]))\n",
        "    dict_for_df[str(i)+' distance'].append(dist)\n",
        "    # print(i, dist)\n",
        "    least = min(least, (dist, i))\n",
        "  dict_for_df['SVD classification'].append(least[1])\n",
        "testing_df = pd.DataFrame.from_dict(dict_for_df)\n",
        "testing_df.head()"
      ],
      "metadata": {
        "colab": {
          "base_uri": "https://localhost:8080/",
          "height": 206
        },
        "id": "fHxbRC_7mTHc",
        "outputId": "6b90fbb9-de4a-463e-ae97-870cdc7e7422"
      },
      "execution_count": 7,
      "outputs": [
        {
          "output_type": "execute_result",
          "data": {
            "text/plain": [
              "   0 distance  1 distance  2 distance  3 distance  4 distance  5 distance  \\\n",
              "0   41.633678   37.718529   14.336049   32.153520   40.100416   36.965263   \n",
              "1   39.583299   36.904353   40.867171   33.966195   37.058024   19.707969   \n",
              "2   40.347282   33.390447   35.322445   32.180857   32.542393   35.007614   \n",
              "3   25.557353   32.462693   38.573624   36.199160   31.920102   34.299550   \n",
              "4   11.963808   36.768529   37.107295   39.066143   38.816234   34.839706   \n",
              "\n",
              "   6 distance  7 distance  8 distance  9 distance  true classification  \\\n",
              "0   43.892855   34.893925   31.739260   36.374252                    2   \n",
              "1   30.109091   42.923413   33.481328   31.195750                    5   \n",
              "2   41.479536   20.091501   31.100718   34.455833                    7   \n",
              "3   18.141238   41.461843   35.063403   33.593941                    6   \n",
              "4   33.233199   46.460011   36.648558   35.800706                    0   \n",
              "\n",
              "   SVD classification  \n",
              "0                   2  \n",
              "1                   5  \n",
              "2                   7  \n",
              "3                   6  \n",
              "4                   0  "
            ],
            "text/html": [
              "\n",
              "  <div id=\"df-f3960ba4-2903-4b84-b00d-b7f6f2b97b1b\">\n",
              "    <div class=\"colab-df-container\">\n",
              "      <div>\n",
              "<style scoped>\n",
              "    .dataframe tbody tr th:only-of-type {\n",
              "        vertical-align: middle;\n",
              "    }\n",
              "\n",
              "    .dataframe tbody tr th {\n",
              "        vertical-align: top;\n",
              "    }\n",
              "\n",
              "    .dataframe thead th {\n",
              "        text-align: right;\n",
              "    }\n",
              "</style>\n",
              "<table border=\"1\" class=\"dataframe\">\n",
              "  <thead>\n",
              "    <tr style=\"text-align: right;\">\n",
              "      <th></th>\n",
              "      <th>0 distance</th>\n",
              "      <th>1 distance</th>\n",
              "      <th>2 distance</th>\n",
              "      <th>3 distance</th>\n",
              "      <th>4 distance</th>\n",
              "      <th>5 distance</th>\n",
              "      <th>6 distance</th>\n",
              "      <th>7 distance</th>\n",
              "      <th>8 distance</th>\n",
              "      <th>9 distance</th>\n",
              "      <th>true classification</th>\n",
              "      <th>SVD classification</th>\n",
              "    </tr>\n",
              "  </thead>\n",
              "  <tbody>\n",
              "    <tr>\n",
              "      <th>0</th>\n",
              "      <td>41.633678</td>\n",
              "      <td>37.718529</td>\n",
              "      <td>14.336049</td>\n",
              "      <td>32.153520</td>\n",
              "      <td>40.100416</td>\n",
              "      <td>36.965263</td>\n",
              "      <td>43.892855</td>\n",
              "      <td>34.893925</td>\n",
              "      <td>31.739260</td>\n",
              "      <td>36.374252</td>\n",
              "      <td>2</td>\n",
              "      <td>2</td>\n",
              "    </tr>\n",
              "    <tr>\n",
              "      <th>1</th>\n",
              "      <td>39.583299</td>\n",
              "      <td>36.904353</td>\n",
              "      <td>40.867171</td>\n",
              "      <td>33.966195</td>\n",
              "      <td>37.058024</td>\n",
              "      <td>19.707969</td>\n",
              "      <td>30.109091</td>\n",
              "      <td>42.923413</td>\n",
              "      <td>33.481328</td>\n",
              "      <td>31.195750</td>\n",
              "      <td>5</td>\n",
              "      <td>5</td>\n",
              "    </tr>\n",
              "    <tr>\n",
              "      <th>2</th>\n",
              "      <td>40.347282</td>\n",
              "      <td>33.390447</td>\n",
              "      <td>35.322445</td>\n",
              "      <td>32.180857</td>\n",
              "      <td>32.542393</td>\n",
              "      <td>35.007614</td>\n",
              "      <td>41.479536</td>\n",
              "      <td>20.091501</td>\n",
              "      <td>31.100718</td>\n",
              "      <td>34.455833</td>\n",
              "      <td>7</td>\n",
              "      <td>7</td>\n",
              "    </tr>\n",
              "    <tr>\n",
              "      <th>3</th>\n",
              "      <td>25.557353</td>\n",
              "      <td>32.462693</td>\n",
              "      <td>38.573624</td>\n",
              "      <td>36.199160</td>\n",
              "      <td>31.920102</td>\n",
              "      <td>34.299550</td>\n",
              "      <td>18.141238</td>\n",
              "      <td>41.461843</td>\n",
              "      <td>35.063403</td>\n",
              "      <td>33.593941</td>\n",
              "      <td>6</td>\n",
              "      <td>6</td>\n",
              "    </tr>\n",
              "    <tr>\n",
              "      <th>4</th>\n",
              "      <td>11.963808</td>\n",
              "      <td>36.768529</td>\n",
              "      <td>37.107295</td>\n",
              "      <td>39.066143</td>\n",
              "      <td>38.816234</td>\n",
              "      <td>34.839706</td>\n",
              "      <td>33.233199</td>\n",
              "      <td>46.460011</td>\n",
              "      <td>36.648558</td>\n",
              "      <td>35.800706</td>\n",
              "      <td>0</td>\n",
              "      <td>0</td>\n",
              "    </tr>\n",
              "  </tbody>\n",
              "</table>\n",
              "</div>\n",
              "      <button class=\"colab-df-convert\" onclick=\"convertToInteractive('df-f3960ba4-2903-4b84-b00d-b7f6f2b97b1b')\"\n",
              "              title=\"Convert this dataframe to an interactive table.\"\n",
              "              style=\"display:none;\">\n",
              "        \n",
              "  <svg xmlns=\"http://www.w3.org/2000/svg\" height=\"24px\"viewBox=\"0 0 24 24\"\n",
              "       width=\"24px\">\n",
              "    <path d=\"M0 0h24v24H0V0z\" fill=\"none\"/>\n",
              "    <path d=\"M18.56 5.44l.94 2.06.94-2.06 2.06-.94-2.06-.94-.94-2.06-.94 2.06-2.06.94zm-11 1L8.5 8.5l.94-2.06 2.06-.94-2.06-.94L8.5 2.5l-.94 2.06-2.06.94zm10 10l.94 2.06.94-2.06 2.06-.94-2.06-.94-.94-2.06-.94 2.06-2.06.94z\"/><path d=\"M17.41 7.96l-1.37-1.37c-.4-.4-.92-.59-1.43-.59-.52 0-1.04.2-1.43.59L10.3 9.45l-7.72 7.72c-.78.78-.78 2.05 0 2.83L4 21.41c.39.39.9.59 1.41.59.51 0 1.02-.2 1.41-.59l7.78-7.78 2.81-2.81c.8-.78.8-2.07 0-2.86zM5.41 20L4 18.59l7.72-7.72 1.47 1.35L5.41 20z\"/>\n",
              "  </svg>\n",
              "      </button>\n",
              "      \n",
              "  <style>\n",
              "    .colab-df-container {\n",
              "      display:flex;\n",
              "      flex-wrap:wrap;\n",
              "      gap: 12px;\n",
              "    }\n",
              "\n",
              "    .colab-df-convert {\n",
              "      background-color: #E8F0FE;\n",
              "      border: none;\n",
              "      border-radius: 50%;\n",
              "      cursor: pointer;\n",
              "      display: none;\n",
              "      fill: #1967D2;\n",
              "      height: 32px;\n",
              "      padding: 0 0 0 0;\n",
              "      width: 32px;\n",
              "    }\n",
              "\n",
              "    .colab-df-convert:hover {\n",
              "      background-color: #E2EBFA;\n",
              "      box-shadow: 0px 1px 2px rgba(60, 64, 67, 0.3), 0px 1px 3px 1px rgba(60, 64, 67, 0.15);\n",
              "      fill: #174EA6;\n",
              "    }\n",
              "\n",
              "    [theme=dark] .colab-df-convert {\n",
              "      background-color: #3B4455;\n",
              "      fill: #D2E3FC;\n",
              "    }\n",
              "\n",
              "    [theme=dark] .colab-df-convert:hover {\n",
              "      background-color: #434B5C;\n",
              "      box-shadow: 0px 1px 3px 1px rgba(0, 0, 0, 0.15);\n",
              "      filter: drop-shadow(0px 1px 2px rgba(0, 0, 0, 0.3));\n",
              "      fill: #FFFFFF;\n",
              "    }\n",
              "  </style>\n",
              "\n",
              "      <script>\n",
              "        const buttonEl =\n",
              "          document.querySelector('#df-f3960ba4-2903-4b84-b00d-b7f6f2b97b1b button.colab-df-convert');\n",
              "        buttonEl.style.display =\n",
              "          google.colab.kernel.accessAllowed ? 'block' : 'none';\n",
              "\n",
              "        async function convertToInteractive(key) {\n",
              "          const element = document.querySelector('#df-f3960ba4-2903-4b84-b00d-b7f6f2b97b1b');\n",
              "          const dataTable =\n",
              "            await google.colab.kernel.invokeFunction('convertToInteractive',\n",
              "                                                     [key], {});\n",
              "          if (!dataTable) return;\n",
              "\n",
              "          const docLinkHtml = 'Like what you see? Visit the ' +\n",
              "            '<a target=\"_blank\" href=https://colab.research.google.com/notebooks/data_table.ipynb>data table notebook</a>'\n",
              "            + ' to learn more about interactive tables.';\n",
              "          element.innerHTML = '';\n",
              "          dataTable['output_type'] = 'display_data';\n",
              "          await google.colab.output.renderOutput(dataTable, element);\n",
              "          const docLink = document.createElement('div');\n",
              "          docLink.innerHTML = docLinkHtml;\n",
              "          element.appendChild(docLink);\n",
              "        }\n",
              "      </script>\n",
              "    </div>\n",
              "  </div>\n",
              "  "
            ]
          },
          "metadata": {},
          "execution_count": 7
        }
      ]
    },
    {
      "cell_type": "code",
      "source": [
        "count = (testing_df['true classification'] != testing_df['SVD classification']).sum()\n",
        "print(count, 'misclassifications out of', len(testing_df))"
      ],
      "metadata": {
        "colab": {
          "base_uri": "https://localhost:8080/"
        },
        "id": "Z2ltOsLd8GY8",
        "outputId": "93d634ca-788e-4423-a519-b41af0ee0dd9"
      },
      "execution_count": 8,
      "outputs": [
        {
          "output_type": "stream",
          "name": "stdout",
          "text": [
            "12 misclassifications out of 360\n"
          ]
        }
      ]
    }
  ]
}